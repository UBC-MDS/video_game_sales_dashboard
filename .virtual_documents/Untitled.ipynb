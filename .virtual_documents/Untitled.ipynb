import altair as alt
import pandas as pd
from dash import Dash, Input, Output, dcc, html
from vega_datasets import data


year = 2014
rownum = 5


videoGame = pd.read_csv("data/processed/videoGame.csv")
summary = pd.read_csv("data/processed/summary.csv")


publisher = (
    summary.groupby(["Publisher", "Year"]).size().to_frame(name="counts").reset_index()
)


publisher_year = publisher[publisher.iloc[:,1] == year]
publisher_year['percent'] = publisher_year['counts']/publisher_year['counts'].sum()
publisher_year


alt.Chart(publisher_year).transform_window(
    rank="rank(percent)", sort=[alt.SortField("percent", order="descending")]
).transform_filter(alt.datum.rank <= rownum).mark_bar().encode(
    x="percent", y=alt.Y("Publisher", sort="-x"), color=alt.Color("percent")
)


pie = alt.Chart(publisher_year).transform_window(
    rank="rank(percent)", sort=[alt.SortField("percent", order="descending")]
).transform_filter(alt.datum.rank <= rownum).mark_arc(innerRadius=70).encode(
    theta=alt.Theta(field="counts", type="quantitative"),
    color=alt.Color(field="Publisher", type="nominal"))

text = pie.mark_text(
    #align='left',
    #baseline='middle',
    #dx=3,
    #dy=3
).encode(text='percent:N')

(pie + text)


import matplotlib.pyplot as plt
import numpy as np
import pandas as pd
import seaborn as sns
import squarify

publisher_year_tree_map = (publisher_year.sort_values("counts", ascending=False).head(rownum))

colors = [
    "#fae588",
    "#f79d65",
    "#f9dc5c",
    "#e8ac65",
    "#e76f51",
    "#ef233c",
    "#b7094c",
]  # color palette
sns.set_style(style="whitegrid")  # set seaborn plot style

publisher_year_tree_map["label"] = (
    publisher_year_tree_map["Publisher"].astype(str)
    + " "
    + round(publisher_year_tree_map["percent"], 2).astype(str)
)
label = publisher_year_tree_map["label"]

sizes = publisher_year_tree_map["percent"].values
label = publisher_year_tree_map["label"]
squarify.plot(sizes=sizes, label=label, alpha=0.6, color=colors).set(
    title="Treemap with Squarify"
)
plt.axis("off")
plt.show()


score= (videoGame.groupby(["Publisher", "Year"]).mean())[['Critic_Score']].reset_index()
score_year = score[score.iloc[:,1] == year]
score_year


alt.Chart(score_year).transform_window(
    rank="rank(Critic_Score)", sort=[alt.SortField("Critic_Score", order="descending")]
).transform_filter(alt.datum.rank <= rownum).mark_bar().encode(
    x="Critic_Score", y=alt.Y("Publisher", sort="-x"), color=alt.Color("Critic_Score")
)



