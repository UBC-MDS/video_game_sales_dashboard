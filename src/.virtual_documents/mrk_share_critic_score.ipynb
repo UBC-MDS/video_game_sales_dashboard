import altair as alt
import pandas as pd
from dash import Dash, Input, Output, dcc, html
from vega_datasets import data


videoGame = pd.read_csv("../data/processed/videoGame.csv").dropna()
summary = pd.read_csv("../data/processed/summary.csv")


def global_market_share_plot(year):
    global_sales = (
        summary.groupby(["tag", "Year"]).sum()[["North America"]].reset_index()
    )
    global_sales_year = global_sales[global_sales.iloc[:, 1] == year].replace(
        "Video Games", "Others"
    )
    global_sales_year["percent"] = (
        global_sales_year["North America"] / global_sales_year["North America"].sum()
    )
    plot = (
        alt.Chart(global_sales_year)
        .mark_arc(innerRadius=70)
        .encode(
            theta=alt.Theta(field="North America", type="quantitative"),
            color=alt.Color(field="tag", type="nominal"),
            tooltip=["percent"],
        )
    )
    return plot


global_market_share_plot(2016)


def na_market_share_plot(year):
    na_sales = summary.groupby(["tag", "Year"]).sum()[["Global"]].reset_index()
    na_sales_year = na_sales[na_sales.iloc[:, 1] == year].replace("Video Games", "Others")
    na_sales_year["percent"] = na_sales_year["Global"] / na_sales["Global"].sum()
    plot = (
        alt.Chart(na_sales_year)
        .mark_arc(innerRadius=70)
        .encode(
            theta=alt.Theta(field="Global", type="quantitative"),
            color=alt.Color(field="tag", type="nominal"),
            tooltip=["percent"],
        )
    )
    return plot


na_market_share_plot(2016)


def critic_score_plot(year):
    score = (videoGame.groupby(["Platform", "Year"]).mean())[
        ["Critic_Score"]
    ].reset_index()
    score_year = score[score.iloc[:, 1] == year].rename(
        columns={"Critic_Score": "Critic Score"}
    )
    plot = (
        alt.Chart(score_year)
        .transform_window(
            rank="rank(Critic Score)",
            sort=[alt.SortField("Critic Score", order="descending")],
        )
        .mark_bar()
        .encode(
            x=alt.X("Platform", sort="-y"),
            y="Critic Score",
            color=alt.Color("Critic Score"), tooltip=["Critic Score"]
        )
        .interactive()
    )
    return plot


critic_score_plot(2014)



