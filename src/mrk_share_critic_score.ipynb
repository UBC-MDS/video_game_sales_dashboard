{
 "cells": [
  {
   "cell_type": "code",
   "execution_count": 1,
   "id": "397bfb74-b37e-4b56-b609-a033e13b70d5",
   "metadata": {},
   "outputs": [],
   "source": [
    "import altair as alt\n",
    "import pandas as pd\n",
    "from dash import Dash, Input, Output, dcc, html\n",
    "from vega_datasets import data"
   ]
  },
  {
   "cell_type": "code",
   "execution_count": 2,
   "id": "754874fc-93f4-46fc-9053-52c932ac523f",
   "metadata": {},
   "outputs": [],
   "source": [
    "videoGame = pd.read_csv(\"../data/processed/videoGame.csv\").dropna()\n",
    "summary = pd.read_csv(\"../data/processed/summary.csv\")"
   ]
  },
  {
   "cell_type": "code",
   "execution_count": 3,
   "id": "ffbfe833-3489-495f-a3af-d5e29cd3e942",
   "metadata": {},
   "outputs": [],
   "source": [
    "def global_market_share_plot(year):\n",
    "    global_sales = (\n",
    "        summary.groupby([\"tag\", \"Year\"]).sum()[[\"North America\"]].reset_index()\n",
    "    )\n",
    "    global_sales_year = global_sales[global_sales.iloc[:, 1] == year].replace(\n",
    "        \"Video Games\", \"Others\"\n",
    "    )\n",
    "    global_sales_year[\"percent\"] = (\n",
    "        global_sales_year[\"North America\"] / global_sales_year[\"North America\"].sum()\n",
    "    )\n",
    "    plot = (\n",
    "        alt.Chart(global_sales_year)\n",
    "        .mark_arc(innerRadius=70)\n",
    "        .encode(\n",
    "            theta=alt.Theta(field=\"North America\", type=\"quantitative\"),\n",
    "            color=alt.Color(field=\"tag\", type=\"nominal\"),\n",
    "            tooltip=[\"percent\"],\n",
    "        )\n",
    "    )\n",
    "    return plot"
   ]
  },
  {
   "cell_type": "code",
   "execution_count": 4,
   "id": "c515b1f9-ecb8-4d2f-af96-1144a701ed1d",
   "metadata": {},
   "outputs": [
    {
     "data": {
      "text/html": [
       "\n",
       "<div id=\"altair-viz-d76af2caa2b342fc86c5e1cb354ba17a\"></div>\n",
       "<script type=\"text/javascript\">\n",
       "  var VEGA_DEBUG = (typeof VEGA_DEBUG == \"undefined\") ? {} : VEGA_DEBUG;\n",
       "  (function(spec, embedOpt){\n",
       "    let outputDiv = document.currentScript.previousElementSibling;\n",
       "    if (outputDiv.id !== \"altair-viz-d76af2caa2b342fc86c5e1cb354ba17a\") {\n",
       "      outputDiv = document.getElementById(\"altair-viz-d76af2caa2b342fc86c5e1cb354ba17a\");\n",
       "    }\n",
       "    const paths = {\n",
       "      \"vega\": \"https://cdn.jsdelivr.net/npm//vega@5?noext\",\n",
       "      \"vega-lib\": \"https://cdn.jsdelivr.net/npm//vega-lib?noext\",\n",
       "      \"vega-lite\": \"https://cdn.jsdelivr.net/npm//vega-lite@4.17.0?noext\",\n",
       "      \"vega-embed\": \"https://cdn.jsdelivr.net/npm//vega-embed@6?noext\",\n",
       "    };\n",
       "\n",
       "    function maybeLoadScript(lib, version) {\n",
       "      var key = `${lib.replace(\"-\", \"\")}_version`;\n",
       "      return (VEGA_DEBUG[key] == version) ?\n",
       "        Promise.resolve(paths[lib]) :\n",
       "        new Promise(function(resolve, reject) {\n",
       "          var s = document.createElement('script');\n",
       "          document.getElementsByTagName(\"head\")[0].appendChild(s);\n",
       "          s.async = true;\n",
       "          s.onload = () => {\n",
       "            VEGA_DEBUG[key] = version;\n",
       "            return resolve(paths[lib]);\n",
       "          };\n",
       "          s.onerror = () => reject(`Error loading script: ${paths[lib]}`);\n",
       "          s.src = paths[lib];\n",
       "        });\n",
       "    }\n",
       "\n",
       "    function showError(err) {\n",
       "      outputDiv.innerHTML = `<div class=\"error\" style=\"color:red;\">${err}</div>`;\n",
       "      throw err;\n",
       "    }\n",
       "\n",
       "    function displayChart(vegaEmbed) {\n",
       "      vegaEmbed(outputDiv, spec, embedOpt)\n",
       "        .catch(err => showError(`Javascript Error: ${err.message}<br>This usually means there's a typo in your chart specification. See the javascript console for the full traceback.`));\n",
       "    }\n",
       "\n",
       "    if(typeof define === \"function\" && define.amd) {\n",
       "      requirejs.config({paths});\n",
       "      require([\"vega-embed\"], displayChart, err => showError(`Error loading script: ${err.message}`));\n",
       "    } else {\n",
       "      maybeLoadScript(\"vega\", \"5\")\n",
       "        .then(() => maybeLoadScript(\"vega-lite\", \"4.17.0\"))\n",
       "        .then(() => maybeLoadScript(\"vega-embed\", \"6\"))\n",
       "        .catch(showError)\n",
       "        .then(() => displayChart(vegaEmbed));\n",
       "    }\n",
       "  })({\"config\": {\"view\": {\"continuousWidth\": 400, \"continuousHeight\": 300}}, \"data\": {\"name\": \"data-30056fdafac8fde78231209a0f017aa1\"}, \"mark\": {\"type\": \"arc\", \"innerRadius\": 70}, \"encoding\": {\"color\": {\"field\": \"tag\", \"type\": \"nominal\"}, \"theta\": {\"field\": \"North America\", \"type\": \"quantitative\"}, \"tooltip\": [{\"field\": \"percent\", \"type\": \"quantitative\"}]}, \"$schema\": \"https://vega.github.io/schema/vega-lite/v4.17.0.json\", \"datasets\": {\"data-30056fdafac8fde78231209a0f017aa1\": [{\"tag\": \"PS4\", \"Year\": 2016, \"North America\": 47.4, \"percent\": 0.3746443250079039}, {\"tag\": \"Others\", \"Year\": 2016, \"North America\": 44.93, \"percent\": 0.355121719886184}, {\"tag\": \"Xbox\", \"Year\": 2016, \"North America\": 34.19, \"percent\": 0.2702339551059121}]}}, {\"mode\": \"vega-lite\"});\n",
       "</script>"
      ],
      "text/plain": [
       "alt.Chart(...)"
      ]
     },
     "execution_count": 4,
     "metadata": {},
     "output_type": "execute_result"
    }
   ],
   "source": [
    "global_market_share_plot(2016)"
   ]
  },
  {
   "cell_type": "code",
   "execution_count": 5,
   "id": "4327ea35-8bfd-438b-a6ab-7b03a0182b0f",
   "metadata": {},
   "outputs": [],
   "source": [
    "def na_market_share_plot(year):\n",
    "    na_sales = summary.groupby([\"tag\", \"Year\"]).sum()[[\"Global\"]].reset_index()\n",
    "    na_sales_year = na_sales[na_sales.iloc[:, 1] == year].replace(\"Video Games\", \"Others\")\n",
    "    na_sales_year[\"percent\"] = na_sales_year[\"Global\"] / na_sales[\"Global\"].sum()\n",
    "    plot = (\n",
    "        alt.Chart(na_sales_year)\n",
    "        .mark_arc(innerRadius=70)\n",
    "        .encode(\n",
    "            theta=alt.Theta(field=\"Global\", type=\"quantitative\"),\n",
    "            color=alt.Color(field=\"tag\", type=\"nominal\"),\n",
    "            tooltip=[\"percent\"],\n",
    "        )\n",
    "    )\n",
    "    return plot"
   ]
  },
  {
   "cell_type": "code",
   "execution_count": 6,
   "id": "a6d7c443-f573-4ca8-926a-8c33d8e7ddba",
   "metadata": {},
   "outputs": [
    {
     "data": {
      "text/html": [
       "\n",
       "<div id=\"altair-viz-0ff72b7db4f148b2b6ec3aca9242ab63\"></div>\n",
       "<script type=\"text/javascript\">\n",
       "  var VEGA_DEBUG = (typeof VEGA_DEBUG == \"undefined\") ? {} : VEGA_DEBUG;\n",
       "  (function(spec, embedOpt){\n",
       "    let outputDiv = document.currentScript.previousElementSibling;\n",
       "    if (outputDiv.id !== \"altair-viz-0ff72b7db4f148b2b6ec3aca9242ab63\") {\n",
       "      outputDiv = document.getElementById(\"altair-viz-0ff72b7db4f148b2b6ec3aca9242ab63\");\n",
       "    }\n",
       "    const paths = {\n",
       "      \"vega\": \"https://cdn.jsdelivr.net/npm//vega@5?noext\",\n",
       "      \"vega-lib\": \"https://cdn.jsdelivr.net/npm//vega-lib?noext\",\n",
       "      \"vega-lite\": \"https://cdn.jsdelivr.net/npm//vega-lite@4.17.0?noext\",\n",
       "      \"vega-embed\": \"https://cdn.jsdelivr.net/npm//vega-embed@6?noext\",\n",
       "    };\n",
       "\n",
       "    function maybeLoadScript(lib, version) {\n",
       "      var key = `${lib.replace(\"-\", \"\")}_version`;\n",
       "      return (VEGA_DEBUG[key] == version) ?\n",
       "        Promise.resolve(paths[lib]) :\n",
       "        new Promise(function(resolve, reject) {\n",
       "          var s = document.createElement('script');\n",
       "          document.getElementsByTagName(\"head\")[0].appendChild(s);\n",
       "          s.async = true;\n",
       "          s.onload = () => {\n",
       "            VEGA_DEBUG[key] = version;\n",
       "            return resolve(paths[lib]);\n",
       "          };\n",
       "          s.onerror = () => reject(`Error loading script: ${paths[lib]}`);\n",
       "          s.src = paths[lib];\n",
       "        });\n",
       "    }\n",
       "\n",
       "    function showError(err) {\n",
       "      outputDiv.innerHTML = `<div class=\"error\" style=\"color:red;\">${err}</div>`;\n",
       "      throw err;\n",
       "    }\n",
       "\n",
       "    function displayChart(vegaEmbed) {\n",
       "      vegaEmbed(outputDiv, spec, embedOpt)\n",
       "        .catch(err => showError(`Javascript Error: ${err.message}<br>This usually means there's a typo in your chart specification. See the javascript console for the full traceback.`));\n",
       "    }\n",
       "\n",
       "    if(typeof define === \"function\" && define.amd) {\n",
       "      requirejs.config({paths});\n",
       "      require([\"vega-embed\"], displayChart, err => showError(`Error loading script: ${err.message}`));\n",
       "    } else {\n",
       "      maybeLoadScript(\"vega\", \"5\")\n",
       "        .then(() => maybeLoadScript(\"vega-lite\", \"4.17.0\"))\n",
       "        .then(() => maybeLoadScript(\"vega-embed\", \"6\"))\n",
       "        .catch(showError)\n",
       "        .then(() => displayChart(vegaEmbed));\n",
       "    }\n",
       "  })({\"config\": {\"view\": {\"continuousWidth\": 400, \"continuousHeight\": 300}}, \"data\": {\"name\": \"data-e1bbe930b1f47dc25a4f6e3dedfc4edd\"}, \"mark\": {\"type\": \"arc\", \"innerRadius\": 70}, \"encoding\": {\"color\": {\"field\": \"tag\", \"type\": \"nominal\"}, \"theta\": {\"field\": \"Global\", \"type\": \"quantitative\"}, \"tooltip\": [{\"field\": \"percent\", \"type\": \"quantitative\"}]}, \"$schema\": \"https://vega.github.io/schema/vega-lite/v4.17.0.json\", \"datasets\": {\"data-e1bbe930b1f47dc25a4f6e3dedfc4edd\": [{\"tag\": \"PS4\", \"Year\": 2016, \"Global\": 135.72, \"percent\": 0.014012554720409676}, {\"tag\": \"Others\", \"Year\": 2016, \"Global\": 130.1, \"percent\": 0.013432311885685963}, {\"tag\": \"Xbox\", \"Year\": 2016, \"Global\": 57.37, \"percent\": 0.005923226232757907}]}}, {\"mode\": \"vega-lite\"});\n",
       "</script>"
      ],
      "text/plain": [
       "alt.Chart(...)"
      ]
     },
     "execution_count": 6,
     "metadata": {},
     "output_type": "execute_result"
    }
   ],
   "source": [
    "na_market_share_plot(2016)"
   ]
  },
  {
   "cell_type": "markdown",
   "id": "9b5cc25c-cae7-4aaa-bb3a-e287c2ed0e36",
   "metadata": {},
   "source": [
    "# critic  score"
   ]
  },
  {
   "cell_type": "code",
   "execution_count": 7,
   "id": "6f0195b5-ee8f-441b-9e30-1283c9f1c75a",
   "metadata": {},
   "outputs": [],
   "source": [
    "def critic_score_plot(year):\n",
    "    score = (videoGame.groupby([\"Platform\", \"Year\"]).mean())[\n",
    "        [\"Critic_Score\"]\n",
    "    ].reset_index()\n",
    "    score_year = score[score.iloc[:, 1] == year].rename(\n",
    "        columns={\"Critic_Score\": \"Critic Score\"}\n",
    "    )\n",
    "    plot = (\n",
    "        alt.Chart(score_year)\n",
    "        .transform_window(\n",
    "            rank=\"rank(Critic Score)\",\n",
    "            sort=[alt.SortField(\"Critic Score\", order=\"descending\")],\n",
    "        )\n",
    "        .mark_bar()\n",
    "        .encode(\n",
    "            x=alt.X(\"Platform\", sort=\"-y\"),\n",
    "            y=\"Critic Score\",\n",
    "            color=alt.Color(\"Critic Score\"), tooltip=[\"Critic Score\"]\n",
    "        )\n",
    "        .interactive()\n",
    "    )\n",
    "    return plot"
   ]
  },
  {
   "cell_type": "code",
   "execution_count": 8,
   "id": "5ea021e5-6d7b-4974-a71c-f760187e5cdc",
   "metadata": {},
   "outputs": [
    {
     "data": {
      "text/html": [
       "\n",
       "<div id=\"altair-viz-3762ea9de8a6430eb0bbb29f2e717a36\"></div>\n",
       "<script type=\"text/javascript\">\n",
       "  var VEGA_DEBUG = (typeof VEGA_DEBUG == \"undefined\") ? {} : VEGA_DEBUG;\n",
       "  (function(spec, embedOpt){\n",
       "    let outputDiv = document.currentScript.previousElementSibling;\n",
       "    if (outputDiv.id !== \"altair-viz-3762ea9de8a6430eb0bbb29f2e717a36\") {\n",
       "      outputDiv = document.getElementById(\"altair-viz-3762ea9de8a6430eb0bbb29f2e717a36\");\n",
       "    }\n",
       "    const paths = {\n",
       "      \"vega\": \"https://cdn.jsdelivr.net/npm//vega@5?noext\",\n",
       "      \"vega-lib\": \"https://cdn.jsdelivr.net/npm//vega-lib?noext\",\n",
       "      \"vega-lite\": \"https://cdn.jsdelivr.net/npm//vega-lite@4.17.0?noext\",\n",
       "      \"vega-embed\": \"https://cdn.jsdelivr.net/npm//vega-embed@6?noext\",\n",
       "    };\n",
       "\n",
       "    function maybeLoadScript(lib, version) {\n",
       "      var key = `${lib.replace(\"-\", \"\")}_version`;\n",
       "      return (VEGA_DEBUG[key] == version) ?\n",
       "        Promise.resolve(paths[lib]) :\n",
       "        new Promise(function(resolve, reject) {\n",
       "          var s = document.createElement('script');\n",
       "          document.getElementsByTagName(\"head\")[0].appendChild(s);\n",
       "          s.async = true;\n",
       "          s.onload = () => {\n",
       "            VEGA_DEBUG[key] = version;\n",
       "            return resolve(paths[lib]);\n",
       "          };\n",
       "          s.onerror = () => reject(`Error loading script: ${paths[lib]}`);\n",
       "          s.src = paths[lib];\n",
       "        });\n",
       "    }\n",
       "\n",
       "    function showError(err) {\n",
       "      outputDiv.innerHTML = `<div class=\"error\" style=\"color:red;\">${err}</div>`;\n",
       "      throw err;\n",
       "    }\n",
       "\n",
       "    function displayChart(vegaEmbed) {\n",
       "      vegaEmbed(outputDiv, spec, embedOpt)\n",
       "        .catch(err => showError(`Javascript Error: ${err.message}<br>This usually means there's a typo in your chart specification. See the javascript console for the full traceback.`));\n",
       "    }\n",
       "\n",
       "    if(typeof define === \"function\" && define.amd) {\n",
       "      requirejs.config({paths});\n",
       "      require([\"vega-embed\"], displayChart, err => showError(`Error loading script: ${err.message}`));\n",
       "    } else {\n",
       "      maybeLoadScript(\"vega\", \"5\")\n",
       "        .then(() => maybeLoadScript(\"vega-lite\", \"4.17.0\"))\n",
       "        .then(() => maybeLoadScript(\"vega-embed\", \"6\"))\n",
       "        .catch(showError)\n",
       "        .then(() => displayChart(vegaEmbed));\n",
       "    }\n",
       "  })({\"config\": {\"view\": {\"continuousWidth\": 400, \"continuousHeight\": 300}}, \"data\": {\"name\": \"data-82ca8afe7b191290934128691c9dbb52\"}, \"mark\": \"bar\", \"encoding\": {\"color\": {\"field\": \"Critic Score\", \"type\": \"quantitative\"}, \"tooltip\": [{\"field\": \"Critic Score\", \"type\": \"quantitative\"}], \"x\": {\"field\": \"Platform\", \"sort\": \"-y\", \"type\": \"nominal\"}, \"y\": {\"field\": \"Critic Score\", \"type\": \"quantitative\"}}, \"selection\": {\"selector001\": {\"type\": \"interval\", \"bind\": \"scales\", \"encodings\": [\"x\", \"y\"]}}, \"transform\": [{\"window\": [{\"op\": \"rank\", \"field\": \"Critic Score\", \"as\": \"rank\"}], \"sort\": [{\"field\": \"Critic Score\", \"order\": \"descending\"}]}], \"$schema\": \"https://vega.github.io/schema/vega-lite/v4.17.0.json\", \"datasets\": {\"data-82ca8afe7b191290934128691c9dbb52\": [{\"Platform\": \"3DS\", \"Year\": 2014, \"Critic Score\": 68.27777777777777}, {\"Platform\": \"PC\", \"Year\": 2014, \"Critic Score\": 76.17142857142858}, {\"Platform\": \"PS3\", \"Year\": 2014, \"Critic Score\": 66.65714285714286}, {\"Platform\": \"PS4\", \"Year\": 2014, \"Critic Score\": 73.6470588235294}, {\"Platform\": \"PSV\", \"Year\": 2014, \"Critic Score\": 71.86666666666666}, {\"Platform\": \"WiiU\", \"Year\": 2014, \"Critic Score\": 70.73333333333333}, {\"Platform\": \"X360\", \"Year\": 2014, \"Critic Score\": 63.73076923076923}, {\"Platform\": \"XOne\", \"Year\": 2014, \"Critic Score\": 74.27906976744185}]}}, {\"mode\": \"vega-lite\"});\n",
       "</script>"
      ],
      "text/plain": [
       "alt.Chart(...)"
      ]
     },
     "execution_count": 8,
     "metadata": {},
     "output_type": "execute_result"
    }
   ],
   "source": [
    "critic_score_plot(2014)"
   ]
  },
  {
   "cell_type": "code",
   "execution_count": null,
   "id": "b13908ea-3065-44ae-82b9-74ca856ee5c7",
   "metadata": {},
   "outputs": [],
   "source": []
  }
 ],
 "metadata": {
  "kernelspec": {
   "display_name": "Python [conda env:532]",
   "language": "python",
   "name": "conda-env-532-py"
  },
  "language_info": {
   "codemirror_mode": {
    "name": "ipython",
    "version": 3
   },
   "file_extension": ".py",
   "mimetype": "text/x-python",
   "name": "python",
   "nbconvert_exporter": "python",
   "pygments_lexer": "ipython3",
   "version": "3.10.2"
  }
 },
 "nbformat": 4,
 "nbformat_minor": 5
}
